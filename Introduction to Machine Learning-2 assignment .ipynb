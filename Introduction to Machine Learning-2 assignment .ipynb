{
 "cells": [
  {
   "cell_type": "markdown",
   "id": "d3d244f3-77e3-41b7-9993-3c1ee1d23645",
   "metadata": {},
   "source": [
    "Q1: Define overfitting and underfitting in machine learning. What are the consequences of each, and how\n",
    "can they be mitigated? "
   ]
  },
  {
   "cell_type": "markdown",
   "id": "7a36aae7-f414-4d95-9709-54abb0ded680",
   "metadata": {},
   "source": [
    "overfitting\n",
    "\n",
    "In which my \n",
    "\n",
    "- test accuracy is High 95 % (Low bias)\n",
    "\n",
    "- test accuracy is low 78 % (High variance)"
   ]
  },
  {
   "cell_type": "markdown",
   "id": "29f358da-a65d-4f97-8b7c-2da6b390c8c2",
   "metadata": {},
   "source": [
    "Underfitting\n",
    "\n",
    "In which my \n",
    "\n",
    "- test accuracy is low 78 % (High bias)\n",
    "\n",
    "- test accuracy is low 43 % (High variance)"
   ]
  },
  {
   "cell_type": "markdown",
   "id": "6b2e4389-4db4-4e7d-a17f-2a1697251502",
   "metadata": {},
   "source": [
    "Underfitting - training errors and poor performance of the model.\n",
    "\n",
    "Overfitting - inaccurate predictions and cannot perform well for all types of new data."
   ]
  },
  {
   "cell_type": "markdown",
   "id": "e4f377f3-648a-4924-8090-aac557fad9fa",
   "metadata": {},
   "source": [
    "how can they be mitigated (underfitting)\n",
    "\n",
    "- Increase the number of features in the dataset.\n",
    "- Increase model complexity.\n",
    "- Reduce noise in the data.\n",
    "- Increase the duration of training the data."
   ]
  },
  {
   "cell_type": "markdown",
   "id": "fefbde29-a16c-446a-a8a9-c6ecae72765d",
   "metadata": {},
   "source": [
    "how can they be mitigated (overfitting)\n",
    "\n",
    "- Early stopping. Early stopping pauses the training phase before the machine learning model learns the noise in the data\n",
    "- Pruning. You might identify several features or parameters that impact the final prediction when you build a model\n",
    "- Regularization\n",
    "- Ensembling\n",
    "- Data augmentation"
   ]
  },
  {
   "cell_type": "markdown",
   "id": "52a8b49f-7209-40e6-b3c4-6af981e5411d",
   "metadata": {},
   "source": [
    "Q2: How can we reduce overfitting? Explain in brief."
   ]
  },
  {
   "cell_type": "markdown",
   "id": "6373f522-8301-4ecb-b30a-bd060ac88a1a",
   "metadata": {},
   "source": [
    "You can prevent overfitting by diversifying and scaling your training data set or using some other data science strategies, like those given below.\n",
    "\n",
    "- Early stopping. Early stopping pauses the training phase before the machine learning model learns the noise in the data\n",
    "- Pruning\n",
    "- Regularization\n",
    "- Ensembling\n",
    "- Data augmentation"
   ]
  },
  {
   "cell_type": "markdown",
   "id": "c4b3f806-700c-47c7-9802-b5cef9db3913",
   "metadata": {},
   "source": [
    "Q3: Explain underfitting. List scenarios where underfitting can occur in ML."
   ]
  },
  {
   "cell_type": "markdown",
   "id": "890cfd26-b9fa-4bc1-9863-c7202a495676",
   "metadata": {},
   "source": [
    "A scenario in data science where a data model is unable to capture the relationship between the input and output variables accurately.\n",
    "\n",
    "- High bais \n",
    "\n",
    "- High variance"
   ]
  },
  {
   "cell_type": "markdown",
   "id": "2a4c0fde-388b-41a7-a18b-b2f97d1b6468",
   "metadata": {},
   "source": [
    "Data used for training is not cleaned and contains noise (garbage values) in it.\n",
    "\n",
    "- The model has a high bias.\n",
    "- The size of the training dataset used is not enough.\n",
    "- The model is too simple."
   ]
  },
  {
   "cell_type": "markdown",
   "id": "86f74103-dfe2-43e6-b2cd-edf5516c5a76",
   "metadata": {},
   "source": [
    "Q4: Explain the bias-variance tradeoff in machine learning. What is the relationship between bias and\n",
    "variance, and how do they affect model performance?"
   ]
  },
  {
   "cell_type": "markdown",
   "id": "82cdf216-a0d9-473b-b937-73b6e63335ef",
   "metadata": {},
   "source": [
    "Explain the bias-variance tradeoff in machine learning -------- the property of a model that the variance of the parameter estimated across samples can be reduced by increasing the bias in the estimated parameters."
   ]
  },
  {
   "cell_type": "markdown",
   "id": "3d3320d5-fb78-41ab-af63-ddebb12ed28a",
   "metadata": {},
   "source": [
    "A modle have low bais and high variance is called overfitting.\n",
    "\n",
    "A modle have high bais and high variance is called underfitting."
   ]
  },
  {
   "cell_type": "markdown",
   "id": "8dbe83d3-349a-4789-b841-c152e7b89db6",
   "metadata": {},
   "source": [
    "If model is overfit \n",
    "\n",
    "Modle not respond accurately but take data accurately because it has low bais.\n",
    "\n",
    "If model is overfit \n",
    "\n",
    "Modle not respond accurately nither take data accurately because it has high bais and high variance."
   ]
  },
  {
   "cell_type": "markdown",
   "id": "25026666-eb97-409a-b42c-b47dfcb1f5de",
   "metadata": {},
   "source": [
    "Q5: Discuss some common methods for detecting overfitting and underfitting in machine learning models.\n",
    "How can you determine whether your model is overfitting or underfitting?"
   ]
  },
  {
   "cell_type": "markdown",
   "id": "2ac53137-e31f-4f2c-9eef-8ec50412eaaf",
   "metadata": {},
   "source": [
    "testing the machine learning models on more data with with comprehensive representation of possible input data values and types"
   ]
  },
  {
   "cell_type": "markdown",
   "id": "da5613c7-6ac8-4b7b-84b7-059e5d5f2be8",
   "metadata": {},
   "source": [
    "looking at the prediction error on the training data and the evaluation data."
   ]
  },
  {
   "cell_type": "markdown",
   "id": "bdd27967-ff67-402f-939a-760f25951b6c",
   "metadata": {},
   "source": [
    "Q6: Compare and contrast bias and variance in machine learning. What are some examples of high bias\n",
    "and high variance models, and how do they differ in terms of their performance?"
   ]
  },
  {
   "cell_type": "markdown",
   "id": "ca27ba51-e9e1-4e38-abf2-8494c17b59ad",
   "metadata": {},
   "source": [
    "The term \"variance\" refers to the degree of change that may be expected in the estimation of the target function as a result of using multiple sets of training data. The disparity between the values that were predicted and the values that were actually observed is referred to as bias."
   ]
  },
  {
   "cell_type": "markdown",
   "id": "2e19dd8e-679e-4ae3-985a-3bcd1a207b91",
   "metadata": {},
   "source": [
    "bais related to train and variance related to test"
   ]
  },
  {
   "cell_type": "markdown",
   "id": "4848ab71-442b-4d56-b761-4ed56e495847",
   "metadata": {},
   "source": [
    "EXAMPLE - Linear Regression, Linear Discriminant Analysis and Logistic Regression."
   ]
  },
  {
   "cell_type": "markdown",
   "id": "a1e84c38-dfe6-4bc7-bf9b-7ff006a6dc78",
   "metadata": {},
   "source": [
    "Q7: What is regularization in machine learning, and how can it be used to prevent overfitting? Describe\n",
    "some common regularization techniques and how they work."
   ]
  },
  {
   "cell_type": "markdown",
   "id": "4e7ba4f4-1b09-41c4-acdc-257cfa4eef42",
   "metadata": {},
   "source": [
    " Regularization refers to techniques that are used to calibrate machine learning models in order to minimize the adjusted loss function and prevent overfitting or underfitting. regularizing the parameters that constrain, regularizes, or shrinks the coefficient estimates towards zero. "
   ]
  },
  {
   "cell_type": "markdown",
   "id": "caf26137-a8da-441f-902a-7685e577670d",
   "metadata": {},
   "source": [
    "Regularization is used in machine learning as a solution to overfitting by reducing the variance of the ML model under consideration.\n",
    "\n",
    "Regularization can be implemented in multiple ways by either modifying the loss function, sampling method, or the training approach itself."
   ]
  },
  {
   "cell_type": "code",
   "execution_count": null,
   "id": "252fccd4-e59e-47e2-aca8-d5508a5a2872",
   "metadata": {},
   "outputs": [],
   "source": []
  }
 ],
 "metadata": {
  "kernelspec": {
   "display_name": "Python 3 (ipykernel)",
   "language": "python",
   "name": "python3"
  },
  "language_info": {
   "codemirror_mode": {
    "name": "ipython",
    "version": 3
   },
   "file_extension": ".py",
   "mimetype": "text/x-python",
   "name": "python",
   "nbconvert_exporter": "python",
   "pygments_lexer": "ipython3",
   "version": "3.10.8"
  }
 },
 "nbformat": 4,
 "nbformat_minor": 5
}
